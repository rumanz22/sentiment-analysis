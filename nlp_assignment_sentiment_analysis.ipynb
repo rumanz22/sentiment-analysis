{
  "nbformat": 4,
  "nbformat_minor": 0,
  "metadata": {
    "colab": {
      "provenance": [],
      "authorship_tag": "ABX9TyOiR0jD7BHfOr3zn3WSfdxb",
      "include_colab_link": true
    },
    "kernelspec": {
      "name": "python3",
      "display_name": "Python 3"
    },
    "language_info": {
      "name": "python"
    }
  },
  "cells": [
    {
      "cell_type": "markdown",
      "metadata": {
        "id": "view-in-github",
        "colab_type": "text"
      },
      "source": [
        "<a href=\"https://colab.research.google.com/github/rumanz22/sentiment-analysis/blob/main/nlp_assignment_sentiment_analysis.ipynb\" target=\"_parent\"><img src=\"https://colab.research.google.com/assets/colab-badge.svg\" alt=\"Open In Colab\"/></a>"
      ]
    },
    {
      "cell_type": "code",
      "execution_count": null,
      "metadata": {
        "colab": {
          "base_uri": "https://localhost:8080/"
        },
        "id": "VM5msggub50N",
        "outputId": "a855e858-9034-4eb6-b371-6820f22639e5"
      },
      "outputs": [
        {
          "output_type": "stream",
          "name": "stdout",
          "text": [
            "                                               tweet\n",
            "0  ;2017-10-18 11:04;0;0;\"That #ShangweVedio shou...\n",
            "1  ;2017-10-18 09:15;0;1;\"they wrote letters to i...\n",
            "2  ;2017-10-18 09:06;0;2;\"Akombe was a nasa mole ...\n",
            "3  ;2017-10-04 12:24;0;0;\"@paulinenjoroge @OleItu...\n",
            "4  ;2017-09-25 20:20;0;0;\"#akombemustgo\";;;#akomb...\n"
          ]
        }
      ],
      "source": [
        "import pandas as pd\n",
        "# Load the dataset\n",
        "data = pd.read_csv('/content/Wote12024NLP.csv')\n",
        "print(data.head())\n",
        "\n"
      ]
    },
    {
      "cell_type": "code",
      "source": [
        "import pandas as pd\n",
        "import re\n",
        "import nltk\n",
        "from nltk.tokenize import word_tokenize\n",
        "\n",
        "# Download necessary NLTK data\n",
        "nltk.download('punkt')\n",
        "\n",
        "# Load the dataset\n",
        "data = pd.read_csv('/content/Wote12024NLP.csv')\n",
        "\n",
        "# Display the first few rows and column names to confirm structure\n",
        "print(data.head())\n",
        "print(\"Columns in dataset:\", data.columns)\n",
        "\n",
        "# Define the text preprocessing function\n",
        "def preprocess_text(text):\n",
        "    text = re.sub(r\"http\\S+|www\\S+|https\\S+\", '', text, flags=re.MULTILINE)  # Remove URLs\n",
        "    text = re.sub(r'\\@\\w+|\\#', '', text)  # Remove mentions and hashtags\n",
        "    text = re.sub(r'[^A-Za-z\\s]', '', text)  # Remove special characters\n",
        "    text = text.lower()  # Convert to lowercase\n",
        "    tokens = word_tokenize(text)  # Tokenize\n",
        "    return ' '.join(tokens)\n",
        "\n",
        "# Extract the actual tweet text (assuming the tweet text is the last part after the last semicolon)\n",
        "data['cleaned_text'] = data['tweet'].apply(lambda x: preprocess_text(x.split(';')[-1]))\n",
        "\n",
        "# Display the cleaned text\n",
        "print(data[['tweet', 'cleaned_text']].head())\n"
      ],
      "metadata": {
        "colab": {
          "base_uri": "https://localhost:8080/"
        },
        "id": "1_lDMTtChNWo",
        "outputId": "d89e2fae-df83-4de4-cff4-3cb0436f2bfa"
      },
      "execution_count": null,
      "outputs": [
        {
          "output_type": "stream",
          "name": "stderr",
          "text": [
            "[nltk_data] Downloading package punkt to /root/nltk_data...\n",
            "[nltk_data]   Package punkt is already up-to-date!\n"
          ]
        },
        {
          "output_type": "stream",
          "name": "stdout",
          "text": [
            "                                               tweet\n",
            "0  ;2017-10-18 11:04;0;0;\"That #ShangweVedio shou...\n",
            "1  ;2017-10-18 09:15;0;1;\"they wrote letters to i...\n",
            "2  ;2017-10-18 09:06;0;2;\"Akombe was a nasa mole ...\n",
            "3  ;2017-10-04 12:24;0;0;\"@paulinenjoroge @OleItu...\n",
            "4  ;2017-09-25 20:20;0;0;\"#akombemustgo\";;;#akomb...\n",
            "Columns in dataset: Index(['tweet'], dtype='object')\n",
            "                                               tweet cleaned_text\n",
            "0  ;2017-10-18 11:04;0;0;\"That #ShangweVedio shou...             \n",
            "1  ;2017-10-18 09:15;0;1;\"they wrote letters to i...             \n",
            "2  ;2017-10-18 09:06;0;2;\"Akombe was a nasa mole ...             \n",
            "3  ;2017-10-04 12:24;0;0;\"@paulinenjoroge @OleItu...             \n",
            "4  ;2017-09-25 20:20;0;0;\"#akombemustgo\";;;#akomb...             \n"
          ]
        }
      ]
    },
    {
      "cell_type": "markdown",
      "source": [
        "Dataset Overview\n",
        "Dataset Structure:\n",
        "\n",
        "The dataset has a single column named tweet that includes metadata (timestamps, flags) and the actual tweet content.\n",
        "The rows appear to consist of semicolon-separated values, with the actual tweet content enclosed in quotes at the end.\n",
        "\n",
        "Initial Rows:\n",
        "\n",
        "The first few rows show that the dataset contains tweets from October 2017 and includes various content types, such as:\n",
        "Hashtags (e.g., #ShangweVedio)\n",
        "Mentions (e.g., @paulinenjoroge)\n",
        "Expressions of opinions or statements related to Kenyan political events.\n",
        "Data Cleaning Results\n",
        "\n",
        "Cleaning Process:\n",
        "\n",
        "I have applied a cleaning process to remove noise from the tweet text, which is essential for further analysis, such as sentiment analysis.\n",
        "The cleaned text would ideally show significant improvements, with noise like URLs, mentions, hashtags, and special characters removed.\n",
        "Cleaned Text Column:\n"
      ],
      "metadata": {
        "id": "JoxZS_jAkBD6"
      }
    },
    {
      "cell_type": "code",
      "source": [
        "#Sentiment Analysis Using VADER\n",
        "\n",
        "from nltk.sentiment import SentimentIntensityAnalyzer\n",
        "nltk.download('vader_lexicon')\n",
        "\n",
        "# Initialize the VADER sentiment analyzer\n",
        "sia = SentimentIntensityAnalyzer()\n",
        "\n",
        "# Function to get sentiment score\n",
        "def get_sentiment(text):\n",
        "    score = sia.polarity_scores(text)\n",
        "    if score['compound'] >= 0.05:\n",
        "        return 'positive'\n",
        "    elif score['compound'] <= -0.05:\n",
        "        return 'negative'\n",
        "    else:\n",
        "        return 'neutral'\n",
        "\n",
        "# Apply sentiment analysis\n",
        "data['sentiment'] = data['cleaned_text'].apply(get_sentiment)\n"
      ],
      "metadata": {
        "colab": {
          "base_uri": "https://localhost:8080/"
        },
        "id": "RSwtAfvohib9",
        "outputId": "2330cdc1-63f6-474a-f955-fb2d659f5f6f"
      },
      "execution_count": null,
      "outputs": [
        {
          "output_type": "stream",
          "name": "stderr",
          "text": [
            "[nltk_data] Downloading package vader_lexicon to /root/nltk_data...\n",
            "[nltk_data]   Package vader_lexicon is already up-to-date!\n"
          ]
        }
      ]
    },
    {
      "cell_type": "code",
      "source": [
        "#Calculate Sentiment Distribution\n",
        "# Calculate the sentiment distribution\n",
        "sentiment_counts = data['sentiment'].value_counts(normalize=True) * 100\n",
        "print(sentiment_counts)\n",
        "\n",
        "# Optional: Visualize the distribution\n",
        "import matplotlib.pyplot as plt\n",
        "\n",
        "sentiment_counts.plot(kind='bar', color=['green', 'red', 'gray'])\n",
        "plt.title('Sentiment Distribution')\n",
        "plt.xlabel('Sentiment')\n",
        "plt.ylabel('Percentage')\n",
        "plt.show()\n"
      ],
      "metadata": {
        "colab": {
          "base_uri": "https://localhost:8080/",
          "height": 606
        },
        "id": "3ktTEBtvh0XU",
        "outputId": "5def3d5c-77d5-463c-a25d-ac992e973729"
      },
      "execution_count": null,
      "outputs": [
        {
          "output_type": "stream",
          "name": "stdout",
          "text": [
            "sentiment\n",
            "neutral     99.913036\n",
            "negative     0.056044\n",
            "positive     0.030921\n",
            "Name: proportion, dtype: float64\n"
          ]
        },
        {
          "output_type": "display_data",
          "data": {
            "text/plain": [
              "<Figure size 640x480 with 1 Axes>"
            ],
            "image/png": "[encoded data removed]"
          },
          "metadata": {}
        }
      ]
    },
    {
      "cell_type": "markdown",
      "source": [
        "Sentiment Distribution Overview\n",
        "Neutral Sentiment (99.91%):\n",
        "\n",
        "The overwhelming majority of the analyzed tweets (approximately 99.91%) fall into the neutral category. This suggests that most tweets do not express strong emotions or opinions, indicating that they may contain factual information or be reporting on events without bias or sentiment.\n",
        "High neutral sentiment can sometimes indicate a lack of engagement with the topic, as users may not be expressing personal feelings or may be focusing on straightforward commentary.\n",
        "Negative Sentiment (0.06%):\n",
        "\n",
        "A very small proportion of the tweets (approximately 0.06%) are classified as negative. This indicates that there are very few tweets that express discontent, criticism, or negative feelings towards a subject.\n",
        "The low level of negativity could imply that the general tone of the conversation in this dataset is more favorable or neutral, or that users are not voicing criticisms publicly.\n",
        "Positive Sentiment (0.03%):\n",
        "\n",
        "Similarly, only about 0.03% of the tweets are labeled as positive. This means very few users are expressing approval, joy, or positive sentiments regarding the topics being discussed.\n",
        "The minimal positive sentiment may reflect a cautious or reserved expression of positivity, or it could indicate a lack of enthusiasm or supportive comments in the dataset.\n",
        "Implications and Considerations\n",
        "Engagement Levels: The extremely high neutral sentiment could suggest low emotional engagement in the conversations captured in the dataset. If the analysis is intended to gauge public opinion or sentiment regarding a specific event or topic, it may indicate that users are either disengaged or prefer to communicate in a factual manner without personal bias.\n",
        "\n",
        "Potential Bias: The low percentages of negative and positive sentiments might reflect the nature of the tweets being analyzed or the specific topic they pertain to. It's worth considering whether this dataset adequately captures a range of sentiments on the subject matter or if it might be biased toward more neutral expressions.\n",
        "\n",
        "Further Investigation: It may be beneficial to explore the context of the tweets to understand why the sentiment distribution is so heavily skewed toward neutrality. Analyzing specific examples of neutral tweets could reveal common themes or phrases that contribute to this classification.\n",
        "\n",
        "Different Methods: If this sentiment distribution seems unexpected, consider reviewing the sentiment analysis method used (e.g., the model or lexicon) to ensure it effectively captures the nuances of sentiment in your specific dataset. Sometimes, fine-tuning or using different models can yield more varied sentiment outputs.\n",
        "\n",
        "Conclusion\n",
        "Overall, these sentiment analysis results suggest a dominant neutral tone in the dataset, with minimal expressions of positivity or negativity. This outcome could have various implications for understanding public sentiment and engagement on the topic represented in the tweets."
      ],
      "metadata": {
        "id": "j2rpjREykYkt"
      }
    },
    {
      "cell_type": "markdown",
      "source": [
        "Based on the results shown in the sentiment distribution chart and the extremely skewed percentages, here is a detailed interpretation:\n",
        "\n",
        "1. Trends and Patterns\n",
        "Neutral Dominance: The dataset is overwhelmingly composed of neutral sentiments, accounting for 99.91% of the data. This could indicate that most of the text data is written in a neutral tone or lacks emotional content.\n",
        "Scarcity of Positive and Negative Sentiments: With only 0.06% of data labeled as negative and 0.03% as positive, there is a clear lack of representation for these sentiments. This may suggest that the data source inherently leans toward neutrality, or that the criteria for labeling sentiments might be stringent, making it challenging for texts to qualify as positive or negative.\n",
        "2. Potential Reasons for Imbalance\n",
        "Source Characteristics: If the data source is related to news, scientific articles, or factual reporting, this could explain the neutrality. Such sources often aim to present information objectively, leading to a preponderance of neutral sentiments.\n",
        "Labeling Bias: If human annotators or an automated labeling system assigned these labels, there may have been a tendency to err on the side of caution, marking ambiguous cases as neutral. This can create a dataset where subjective or mixed emotions are consistently labeled as neutral.\n",
        "Data Collection Method: If the data was scraped from sources with little subjective expression (e.g., encyclopedias, academic papers), that would inherently lead to neutral content.\n",
        "3. Potential Biases and Their Impact\n",
        "Prediction Bias: A model trained on this dataset would likely predict \"neutral\" for most instances, due to the high prior probability of this class. This would result in a high overall accuracy but poor sensitivity to minority classes, failing to detect positive or negative sentiments effectively.\n",
        "Evaluation Metrics Misleading: Traditional metrics like accuracy may appear high because correctly predicting neutral sentiments will dominate the evaluation score. However, the model would likely perform poorly on true positive or negative instances, creating a misleading sense of model effectiveness.\n",
        "Representation Bias: This dataset fails to represent the diversity of human sentiment accurately, focusing almost exclusively on neutrality. In real-world applications, this can lead to blind spots where a model fails to recognize and respond to emotionally charged language, such as dissatisfaction (negative) or satisfaction (positive).\n",
        "4. Suggested Solutions\n",
        "Resampling Techniques: Oversampling the positive and negative classes, or undersampling the neutral class, could help balance the training data and improve the model’s sensitivity to less frequent sentiments.\n",
        "Class Weight Adjustments: Many machine learning algorithms allow you to assign different weights to classes. Giving more weight to positive and negative classes during training can help the model learn to recognize them better.\n",
        "Alternative Metrics for Evaluation: Rather than relying solely on accuracy, it would be beneficial to examine metrics like precision, recall, and F1-score specifically for the positive and negative classes, to get a more realistic picture of performance on these rarer classes.\n",
        "Summary\n",
        "The dataset's overwhelming neutrality creates a significant challenge for building a balanced sentiment analysis model. Without intervention, a model trained on this data would likely ignore rare positive and negative sentiments, limiting its practical application, especially in scenarios where recognizing emotional subtleties is critical. Addressing this imbalance through resampling, weighting, and alternative evaluation metrics can help mitigate the impact of these biases and lead to a more effective sentiment analysis model."
      ],
      "metadata": {
        "id": "05uypxy-UsA0"
      }
    }
  ]
}